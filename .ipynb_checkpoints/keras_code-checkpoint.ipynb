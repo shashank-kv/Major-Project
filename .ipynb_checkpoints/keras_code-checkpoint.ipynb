{
 "cells": [
  {
   "cell_type": "markdown",
   "metadata": {},
   "source": [
    "## Import requirements"
   ]
  },
  {
   "cell_type": "code",
   "execution_count": 23,
   "metadata": {},
   "outputs": [],
   "source": [
    "import numpy as np\n",
    "import matplotlib.pyplot as plt\n",
    "from matplotlib import colors\n",
    "import tensorflow as tf\n"
   ]
  },
  {
   "cell_type": "code",
   "execution_count": 2,
   "metadata": {},
   "outputs": [],
   "source": [
    "num_classes = 14\n",
    "wspan= 100\n",
    "hspan = 100\n",
    "nhood = 1"
   ]
  },
  {
   "cell_type": "markdown",
   "metadata": {},
   "source": [
    "# Build and train a model"
   ]
  },
  {
   "cell_type": "code",
   "execution_count": 2,
   "metadata": {},
   "outputs": [],
   "source": [
    "### Load Data\n",
    "data = np.load(\"../../data/d0.npy\")\n",
    "for i in range(1,10):\n",
    "    temp_data = np.load(\"../../data/d\"+str(i)+\".npy\")\n",
    "    data=np.concatenate((data,temp_data),axis=0)"
   ]
  },
  {
   "cell_type": "code",
   "execution_count": 3,
   "metadata": {},
   "outputs": [
    {
     "data": {
      "text/plain": [
       "(145000, 2, 100, 100, 1)"
      ]
     },
     "execution_count": 3,
     "metadata": {},
     "output_type": "execute_result"
    }
   ],
   "source": [
    "data.shape\n",
    "data=data.reshape(len(data),2,100,100,1)\n",
    "data.shape"
   ]
  },
  {
   "cell_type": "code",
   "execution_count": 4,
   "metadata": {
    "scrolled": true
   },
   "outputs": [
    {
     "ename": "NameError",
     "evalue": "name 'data' is not defined",
     "output_type": "error",
     "traceback": [
      "\u001b[0;31m---------------------------------------------------------------------------\u001b[0m",
      "\u001b[0;31mNameError\u001b[0m                                 Traceback (most recent call last)",
      "\u001b[0;32m<ipython-input-4-0c12871ec364>\u001b[0m in \u001b[0;36m<module>\u001b[0;34m\u001b[0m\n\u001b[1;32m      1\u001b[0m \u001b[0;31m### split data into train and test\u001b[0m\u001b[0;34m\u001b[0m\u001b[0;34m\u001b[0m\u001b[0;34m\u001b[0m\u001b[0m\n\u001b[1;32m      2\u001b[0m \u001b[0;32mfrom\u001b[0m \u001b[0msklearn\u001b[0m\u001b[0;34m.\u001b[0m\u001b[0mmodel_selection\u001b[0m \u001b[0;32mimport\u001b[0m \u001b[0mtrain_test_split\u001b[0m\u001b[0;34m\u001b[0m\u001b[0;34m\u001b[0m\u001b[0m\n\u001b[0;32m----> 3\u001b[0;31m \u001b[0mX_train\u001b[0m\u001b[0;34m,\u001b[0m \u001b[0mX_test\u001b[0m\u001b[0;34m,\u001b[0m \u001b[0mY_train\u001b[0m\u001b[0;34m,\u001b[0m \u001b[0mY_test\u001b[0m \u001b[0;34m=\u001b[0m \u001b[0mtrain_test_split\u001b[0m\u001b[0;34m(\u001b[0m\u001b[0mdata\u001b[0m\u001b[0;34m[\u001b[0m\u001b[0;34m:\u001b[0m\u001b[0;34m,\u001b[0m\u001b[0;36m0\u001b[0m\u001b[0;34m]\u001b[0m\u001b[0;34m,\u001b[0m \u001b[0mdata\u001b[0m\u001b[0;34m[\u001b[0m\u001b[0;34m:\u001b[0m\u001b[0;34m,\u001b[0m\u001b[0;36m1\u001b[0m\u001b[0;34m]\u001b[0m\u001b[0;34m,\u001b[0m\u001b[0mtest_size\u001b[0m\u001b[0;34m=\u001b[0m\u001b[0;36m0.2\u001b[0m\u001b[0;34m)\u001b[0m\u001b[0;34m\u001b[0m\u001b[0;34m\u001b[0m\u001b[0m\n\u001b[0m",
      "\u001b[0;31mNameError\u001b[0m: name 'data' is not defined"
     ]
    }
   ],
   "source": [
    "### split data into train and test\n",
    "from sklearn.model_selection import train_test_split\n",
    "X_train, X_test, Y_train, Y_test = train_test_split(data[:,0], data[:,1],test_size=0.2)\n"
   ]
  },
  {
   "cell_type": "code",
   "execution_count": 6,
   "metadata": {},
   "outputs": [],
   "source": [
    "Y_train_onehot = tf.squeeze(tf.one_hot(tf.cast(Y_train, tf.int32), num_classes))\n",
    "Y_test_onehot = tf.squeeze(tf.one_hot(tf.cast(Y_test, tf.int32), num_classes))"
   ]
  },
  {
   "cell_type": "code",
   "execution_count": 3,
   "metadata": {},
   "outputs": [
    {
     "ename": "NameError",
     "evalue": "name 'X_train' is not defined",
     "output_type": "error",
     "traceback": [
      "\u001b[0;31m---------------------------------------------------------------------------\u001b[0m",
      "\u001b[0;31mNameError\u001b[0m                                 Traceback (most recent call last)",
      "\u001b[0;32m<ipython-input-3-af54b6921c64>\u001b[0m in \u001b[0;36m<module>\u001b[0;34m\u001b[0m\n\u001b[1;32m      1\u001b[0m \u001b[0;31m### save train test arrays\u001b[0m\u001b[0;34m\u001b[0m\u001b[0;34m\u001b[0m\u001b[0;34m\u001b[0m\u001b[0m\n\u001b[0;32m----> 2\u001b[0;31m \u001b[0mnp\u001b[0m\u001b[0;34m.\u001b[0m\u001b[0msave\u001b[0m\u001b[0;34m(\u001b[0m\u001b[0;34m'X_train.npy'\u001b[0m\u001b[0;34m,\u001b[0m\u001b[0mX_train\u001b[0m\u001b[0;34m)\u001b[0m\u001b[0;34m\u001b[0m\u001b[0;34m\u001b[0m\u001b[0m\n\u001b[0m\u001b[1;32m      3\u001b[0m \u001b[0mnp\u001b[0m\u001b[0;34m.\u001b[0m\u001b[0msave\u001b[0m\u001b[0;34m(\u001b[0m\u001b[0;34m'X_test.npy'\u001b[0m\u001b[0;34m,\u001b[0m\u001b[0mX_test\u001b[0m\u001b[0;34m)\u001b[0m\u001b[0;34m\u001b[0m\u001b[0;34m\u001b[0m\u001b[0m\n\u001b[1;32m      4\u001b[0m \u001b[0mnp\u001b[0m\u001b[0;34m.\u001b[0m\u001b[0msave\u001b[0m\u001b[0;34m(\u001b[0m\u001b[0;34m'Y_train_onehot.npy'\u001b[0m\u001b[0;34m,\u001b[0m\u001b[0mY_train_onehot\u001b[0m\u001b[0;34m)\u001b[0m\u001b[0;34m\u001b[0m\u001b[0;34m\u001b[0m\u001b[0m\n\u001b[1;32m      5\u001b[0m \u001b[0mnp\u001b[0m\u001b[0;34m.\u001b[0m\u001b[0msave\u001b[0m\u001b[0;34m(\u001b[0m\u001b[0;34m'Y_test_onehot.npy'\u001b[0m\u001b[0;34m,\u001b[0m\u001b[0mY_test_onehot\u001b[0m\u001b[0;34m)\u001b[0m\u001b[0;34m\u001b[0m\u001b[0;34m\u001b[0m\u001b[0m\n",
      "\u001b[0;31mNameError\u001b[0m: name 'X_train' is not defined"
     ]
    }
   ],
   "source": [
    "### save train test arrays\n",
    "np.save('X_train.npy',X_train)\n",
    "np.save('X_test.npy',X_test)\n",
    "np.save('Y_train_onehot.npy',Y_train_onehot)\n",
    "np.save('Y_test_onehot.npy',Y_test_onehot)"
   ]
  },
  {
   "cell_type": "code",
   "execution_count": 10,
   "metadata": {
    "scrolled": true
   },
   "outputs": [],
   "source": [
    "### load train and test arrays\n",
    "#80\n",
    "#X_train = np.load('X_train.npy')\n",
    "#20\n",
    "#X_train = np.load('X_test.npy')\n",
    "#20\n",
    "#X_test = np.load('X_test.npy')\n",
    "#80\n",
    "#X_test = np.load('X_train.npy')\n",
    "#80\n",
    "#Y_train_onehot = np.load('Y_train_onehot.npy')\n",
    "#20\n",
    "#Y_train_onehot = np.load('Y_test_onehot.npy')\n",
    "#20\n",
    "#Y_test_onehot = np.load('Y_test_onehot.npy')\n",
    "#80\n",
    "#Y_test_onehot = np.load('Y_train_onehot.npy')\n",
    "#80\n",
    "#Y_train = np.load('Y_train.npy')\n",
    "#20\n",
    "#Y_train = np.load('Y_test.npy')\n",
    "#80\n",
    "Y_test = np.load('Y_train.npy')\n",
    "#20\n",
    "#Y_test = np.load('Y_test.npy')"
   ]
  },
  {
   "cell_type": "code",
   "execution_count": 5,
   "metadata": {
    "scrolled": true
   },
   "outputs": [
    {
     "name": "stdout",
     "output_type": "stream",
     "text": [
      "Model: \"sequential_1\"\n",
      "_________________________________________________________________\n",
      "Layer (type)                 Output Shape              Param #   \n",
      "=================================================================\n",
      "conv2d_1 (Conv2D)            (None, 100, 100, 100)     1000      \n",
      "_________________________________________________________________\n",
      "dense_3 (Dense)              (None, 100, 100, 100)     10100     \n",
      "_________________________________________________________________\n",
      "dense_4 (Dense)              (None, 100, 100, 100)     10100     \n",
      "_________________________________________________________________\n",
      "dense_5 (Dense)              (None, 100, 100, 14)      1414      \n",
      "=================================================================\n",
      "Total params: 22,614\n",
      "Trainable params: 22,614\n",
      "Non-trainable params: 0\n",
      "_________________________________________________________________\n"
     ]
    }
   ],
   "source": [
    "#### Define and build model\n",
    "tf.random.set_seed(0)\n",
    "layer_dims = [100, 100, 100]\n",
    "loss = lambda x, y : tf.keras.losses.categorical_crossentropy(tf.reshape(x, shape=(-1, num_classes)), \n",
    "                                                              tf.reshape(y, shape=(-1, num_classes)), \n",
    "                                                              from_logits=True)\n",
    "diameter = 2*nhood+1\n",
    "model = tf.keras.Sequential()\n",
    "model.add(tf.keras.layers.InputLayer((wspan, hspan, 1)))\n",
    "model.add(tf.keras.layers.Conv2D(layer_dims[0], kernel_size=[diameter, diameter], padding='same', \n",
    "                                 activation='relu', kernel_initializer=tf.keras.initializers.he_normal(), \n",
    "                                 bias_initializer=tf.keras.initializers.he_normal()))\n",
    "for i in range(1, len(layer_dims)):\n",
    "    model.add(tf.keras.layers.Dense(layer_dims[i],  activation='relu',\n",
    "                                    kernel_initializer=tf.keras.initializers.he_normal(), \n",
    "                                    bias_initializer=tf.keras.initializers.he_normal()))\n",
    "model.add(tf.keras.layers.Dense(num_classes,  activation='relu',\n",
    "                                kernel_initializer=tf.keras.initializers.he_normal(), \n",
    "                                bias_initializer=tf.keras.initializers.he_normal()))\n",
    "\n",
    "#model.compile(optimizer=tf.keras.optimizers.Adam(lr=1e-3), loss=loss,metrics=['accuracy'])\n",
    "model.compile(optimizer=tf.keras.optimizers.SGD(lr=1e-1, nesterov=True), loss=loss,metrics=['accuracy'])\n",
    "\n",
    "EPOCHS = 150\n",
    "checkpoint_filepath = 'best_working_SGD_nesterov_e-1_keras_temp.h5'\n",
    "model_checkpoint_callback = tf.keras.callbacks.ModelCheckpoint(\n",
    "    filepath=checkpoint_filepath,\n",
    "    save_weights_only=True,\n",
    "    monitor='val_accuracy',\n",
    "    mode='max',\n",
    "    save_best_only=True)\n",
    "model.summary()"
   ]
  },
  {
   "cell_type": "code",
   "execution_count": 6,
   "metadata": {},
   "outputs": [],
   "source": [
    "###  Load model\n",
    "#file='best_working_SGD_nesterov_e-1_kerastemp.h5'\n",
    "file='best_working_SGD_nesterov_e-1_keras.h5'\n",
    "model.load_weights(file)"
   ]
  },
  {
   "cell_type": "code",
   "execution_count": 9,
   "metadata": {},
   "outputs": [
    {
     "ename": "NameError",
     "evalue": "name 'Y_train' is not defined",
     "output_type": "error",
     "traceback": [
      "\u001b[0;31m---------------------------------------------------------------------------\u001b[0m",
      "\u001b[0;31mNameError\u001b[0m                                 Traceback (most recent call last)",
      "\u001b[0;32m<ipython-input-9-623d374537fc>\u001b[0m in \u001b[0;36m<module>\u001b[0;34m\u001b[0m\n\u001b[0;32m----> 1\u001b[0;31m \u001b[0mprint\u001b[0m\u001b[0;34m(\u001b[0m\u001b[0mY_train\u001b[0m\u001b[0;34m.\u001b[0m\u001b[0mshape\u001b[0m\u001b[0;34m)\u001b[0m\u001b[0;34m\u001b[0m\u001b[0;34m\u001b[0m\u001b[0m\n\u001b[0m",
      "\u001b[0;31mNameError\u001b[0m: name 'Y_train' is not defined"
     ]
    }
   ],
   "source": [
    "print(Y_train.shape)"
   ]
  },
  {
   "cell_type": "code",
   "execution_count": null,
   "metadata": {},
   "outputs": [
    {
     "name": "stdout",
     "output_type": "stream",
     "text": [
      "Epoch 1/50\n",
      "404/725 [===============>..............] - ETA: 53s - loss: 4.4718 - accuracy: 0.4743"
     ]
    }
   ],
   "source": [
    "#### Run training\n",
    "train_history1 = model.fit(x=X_train, y=Y_train_onehot, epochs=50, batch_size=32,shuffle = True,verbose=1,validation_split=0.2,callbacks=[model_checkpoint_callback])\n",
    "#train_history = model.fit(x=X_train, y=Y_train, epochs=EPOCHS, batch_size=14,shuffle = True,verbose=1,validation_split=0.2,callbacks=[model_checkpoint_callback])\n",
    "\n"
   ]
  },
  {
   "cell_type": "code",
   "execution_count": 7,
   "metadata": {},
   "outputs": [
    {
     "ename": "NameError",
     "evalue": "name 'train_history' is not defined",
     "output_type": "error",
     "traceback": [
      "\u001b[0;31m---------------------------------------------------------------------------\u001b[0m",
      "\u001b[0;31mNameError\u001b[0m                                 Traceback (most recent call last)",
      "\u001b[0;32m<ipython-input-7-ae6077f44558>\u001b[0m in \u001b[0;36m<module>\u001b[0;34m\u001b[0m\n\u001b[0;32m----> 1\u001b[0;31m \u001b[0mtrain_loss\u001b[0m \u001b[0;34m=\u001b[0m \u001b[0mtrain_history\u001b[0m\u001b[0;34m.\u001b[0m\u001b[0mhistory\u001b[0m\u001b[0;34m[\u001b[0m\u001b[0;34m'loss'\u001b[0m\u001b[0;34m]\u001b[0m\u001b[0;34m+\u001b[0m\u001b[0mtrain_history1\u001b[0m\u001b[0;34m.\u001b[0m\u001b[0mhistory\u001b[0m\u001b[0;34m[\u001b[0m\u001b[0;34m'loss'\u001b[0m\u001b[0;34m]\u001b[0m\u001b[0;34m\u001b[0m\u001b[0;34m\u001b[0m\u001b[0m\n\u001b[0m\u001b[1;32m      2\u001b[0m \u001b[0mval_loss\u001b[0m \u001b[0;34m=\u001b[0m \u001b[0mtrain_history\u001b[0m\u001b[0;34m.\u001b[0m\u001b[0mhistory\u001b[0m\u001b[0;34m[\u001b[0m\u001b[0;34m'val_loss'\u001b[0m\u001b[0;34m]\u001b[0m\u001b[0;34m+\u001b[0m\u001b[0mtrain_history1\u001b[0m\u001b[0;34m.\u001b[0m\u001b[0mhistory\u001b[0m\u001b[0;34m[\u001b[0m\u001b[0;34m'val_loss'\u001b[0m\u001b[0;34m]\u001b[0m\u001b[0;34m\u001b[0m\u001b[0;34m\u001b[0m\u001b[0m\n\u001b[1;32m      3\u001b[0m \u001b[0mplt\u001b[0m\u001b[0;34m.\u001b[0m\u001b[0mplot\u001b[0m\u001b[0;34m(\u001b[0m\u001b[0mtrain_loss\u001b[0m\u001b[0;34m,\u001b[0m \u001b[0;34m'k'\u001b[0m\u001b[0;34m,\u001b[0m\u001b[0mlabel\u001b[0m\u001b[0;34m=\u001b[0m\u001b[0;34m\"training loss\"\u001b[0m\u001b[0;34m,\u001b[0m\u001b[0mcolor\u001b[0m\u001b[0;34m=\u001b[0m\u001b[0;34m'green'\u001b[0m\u001b[0;34m)\u001b[0m\u001b[0;34m\u001b[0m\u001b[0;34m\u001b[0m\u001b[0m\n\u001b[1;32m      4\u001b[0m \u001b[0mplt\u001b[0m\u001b[0;34m.\u001b[0m\u001b[0mplot\u001b[0m\u001b[0;34m(\u001b[0m\u001b[0mval_loss\u001b[0m\u001b[0;34m,\u001b[0m \u001b[0;34m'k'\u001b[0m\u001b[0;34m,\u001b[0m\u001b[0mlabel\u001b[0m\u001b[0;34m=\u001b[0m\u001b[0;34m\"validation loss\"\u001b[0m\u001b[0;34m,\u001b[0m\u001b[0mcolor\u001b[0m\u001b[0;34m=\u001b[0m\u001b[0;34m'red'\u001b[0m\u001b[0;34m)\u001b[0m\u001b[0;34m\u001b[0m\u001b[0;34m\u001b[0m\u001b[0m\n\u001b[1;32m      5\u001b[0m \u001b[0mplt\u001b[0m\u001b[0;34m.\u001b[0m\u001b[0mxlabel\u001b[0m\u001b[0;34m(\u001b[0m\u001b[0;34m'epochs'\u001b[0m\u001b[0;34m,\u001b[0m \u001b[0mfontsize\u001b[0m\u001b[0;34m=\u001b[0m\u001b[0;36m18\u001b[0m\u001b[0;34m)\u001b[0m\u001b[0;34m\u001b[0m\u001b[0;34m\u001b[0m\u001b[0m\n",
      "\u001b[0;31mNameError\u001b[0m: name 'train_history' is not defined"
     ]
    }
   ],
   "source": [
    "train_loss = train_history.history['loss']+train_history1.history['loss'] \n",
    "val_loss = train_history.history['val_loss']+train_history1.history['val_loss']\n",
    "plt.plot(train_loss, 'k',label=\"training loss\",color='green')\n",
    "plt.plot(val_loss, 'k',label=\"validation loss\",color='red')\n",
    "plt.xlabel('epochs', fontsize=18)\n",
    "plt.ylabel('loss', fontsize=16)\n",
    "plt.legend() "
   ]
  },
  {
   "cell_type": "code",
   "execution_count": 8,
   "metadata": {
    "scrolled": true
   },
   "outputs": [
    {
     "name": "stdout",
     "output_type": "stream",
     "text": [
      "3625/3625 [==============================] - 201s 42ms/step - loss: 0.1643 - accuracy: 0.9569\n"
     ]
    }
   ],
   "source": [
    "### Evaluate the model\n",
    "results = model.evaluate(X_test, Y_test_onehot, batch_size=32)"
   ]
  },
  {
   "cell_type": "code",
   "execution_count": 9,
   "metadata": {},
   "outputs": [
    {
     "name": "stdout",
     "output_type": "stream",
     "text": [
      "test loss, test accuracy :  [0.16298702359199524, 0.957288384437561]\n"
     ]
    }
   ],
   "source": [
    "print(\"test loss, test accuracy : \",results)"
   ]
  },
  {
   "cell_type": "code",
   "execution_count": 11,
   "metadata": {},
   "outputs": [],
   "source": [
    "X_test = X_test[..., tf.newaxis]\n",
    "Y_test = Y_test[..., tf.newaxis]"
   ]
  },
  {
   "cell_type": "code",
   "execution_count": 20,
   "metadata": {},
   "outputs": [],
   "source": [
    "labels = tf.argmax(tf.nn.softmax(model(X_test[:13])), axis=-1)\n",
    "Y_pred = tf.reshape(labels, (-1, wspan, hspan))"
   ]
  },
  {
   "cell_type": "code",
   "execution_count": 48,
   "metadata": {},
   "outputs": [
    {
     "name": "stdout",
     "output_type": "stream",
     "text": [
      "input [[ 0. 13.  0. ... 13. 12. 13.]\n",
      " [13. 13. 13. ... 13. 13. 13.]\n",
      " [13. 13. 13. ... 13. 13. 13.]\n",
      " ...\n",
      " [13. 13. 12. ... 13.  0. 13.]\n",
      " [13. 13. 12. ... 13.  0. 13.]\n",
      " [13. 13. 13. ... 12. 13. 13.]]\n",
      "expected [[ 0.  0.  0. ...  0. 13.  0.]\n",
      " [ 0.  0.  0. ...  0.  0.  0.]\n",
      " [ 0.  0.  0. ...  0.  0.  0.]\n",
      " ...\n",
      " [ 0.  0. 13. ...  0.  0.  0.]\n",
      " [ 0.  0. 13. ...  0.  0.  0.]\n",
      " [ 0.  0.  0. ... 13.  0.  0.]]\n",
      "obswered tf.Tensor(\n",
      "[[ 0  0  0 ...  0 13  0]\n",
      " [ 0  0  0 ...  0  0  0]\n",
      " [ 0  0  0 ...  0  0  0]\n",
      " ...\n",
      " [ 0  0 13 ...  0  0  0]\n",
      " [ 0  0 13 ...  0  0  0]\n",
      " [ 0  0  0 ... 13  0  0]], shape=(100, 100), dtype=int64)\n"
     ]
    },
    {
     "data": {
      "image/png": "[encoded data removed]",
      "text/plain": [
       "<Figure size 864x288 with 3 Axes>"
      ]
     },
     "metadata": {
      "needs_background": "light"
     },
     "output_type": "display_data"
    }
   ],
   "source": [
    "### Plot results\n",
    "\n",
    "## Generate testing data\n",
    "#X_test = tf.convert_to_tensor(np.moveaxis(np.dstack([make_glider(10), make_glider(10)]), 2, 0), tf.float32)\n",
    "# X_test = tf.convert_to_tensor(make_glider(10), tf.float32)[tf.newaxis, ...]\n",
    "#Y_test = gol(X_test)\n",
    "temp=3\n",
    "\n",
    "tau_i = 4 \n",
    "tau_r = 9\n",
    "tau_0 = tau_i+tau_r\n",
    "\n",
    "##Define discreet colormap\n",
    "cmap = colors.ListedColormap(['xkcd:pale grey','xkcd:darkish red','xkcd:almost black'])\n",
    "bounds = [0,0.99,tau_i+0.99,tau_0+0.99]\n",
    "norm = colors.BoundaryNorm(bounds,cmap.N)\n",
    "\n",
    "plt.figure(figsize=(12,4))\n",
    "plt.subplot(1,3,1)\n",
    "plt.imshow(tf.squeeze(X_test[temp]),cmap=cmap,norm=norm,interpolation='none')\n",
    "plt.axis('off')\n",
    "plt.title(\"Input\")\n",
    "print('input',X_test[temp].reshape(100,100))\n",
    "plt.subplot(1,3,2)\n",
    "plt.imshow(tf.squeeze(Y_test[temp]),cmap=cmap,norm=norm,interpolation='none')\n",
    "plt.axis('off')\n",
    "plt.title(\"Expected Output\")\n",
    "print('expected',Y_test[temp].reshape(100,100))\n",
    "plt.subplot(1,3,3)\n",
    "plt.imshow(tf.squeeze(Y_pred[temp]),cmap=cmap,norm=norm,interpolation='none')\n",
    "plt.axis('off')\n",
    "plt.title(\"Observed Output\")\n",
    "print('obswered',Y_pred[temp])\n"
   ]
  },
  {
   "cell_type": "code",
   "execution_count": 18,
   "metadata": {},
   "outputs": [],
   "source": [
    "### Save and load a model\n",
    "model.save('keras_model.h5')\n",
    "#del model\n",
    "#model = tf.keras.models.load_model('path_to_my_model.h5', custom_objects={'Wraparound2D': Wraparound2D})"
   ]
  },
  {
   "cell_type": "markdown",
   "metadata": {},
   "source": [
    "# Show activation patterns of hidden layers"
   ]
  },
  {
   "cell_type": "code",
   "execution_count": null,
   "metadata": {},
   "outputs": [],
   "source": [
    "import tensorflow.keras.backend as K\n",
    "\n",
    "inp = model.input                                           # input placeholder\n",
    "outputs = [layer.output for layer in model.layers]          # all layer outputs\n",
    "functor = K.function(inp, outputs)   # evaluation function\n",
    "\n",
    "layer_outs = functor([X_test, 1.])\n",
    "\n",
    "\n",
    "\n",
    "# Plot activations of different neurons in different layers \n",
    "all_layer_activations = list()\n",
    "\n",
    "min_max_scaler = lambda x : (x - np.min(x))/(np.max(x) - np.min(x))\n",
    "# min_max_scaler = lambda x : (x - np.mean(x))\n",
    "for j in range(1, 5):\n",
    "    if j==1:\n",
    "        layer_im = np.hstack([min_max_scaler(layer_outs[1][0][..., i]) for i in range(10)])\n",
    "    else:\n",
    "        pattern = np.reshape(layer_outs[j][0], (wspan, hspan, -1))\n",
    "        layer_im = np.hstack([min_max_scaler(pattern[..., i]) for i in range(10)])\n",
    "    all_layer_activations.append(layer_im)\n",
    "\n",
    "        \n",
    "plt.figure()\n",
    "plt.imshow(np.vstack(all_layer_activations))\n",
    "plt.title(\"Activations of hidden layers given \\\"Glider\\\" input\")\n",
    "\n",
    "plt.figure()\n",
    "plt.imshow(np.squeeze(np.dstack(model.layers[1].weights[0].numpy())))\n",
    "plt.title(\"Convolutional filters\")"
   ]
  },
  {
   "cell_type": "code",
   "execution_count": null,
   "metadata": {},
   "outputs": [],
   "source": []
  },
  {
   "cell_type": "code",
   "execution_count": null,
   "metadata": {},
   "outputs": [],
   "source": []
  }
 ],
 "metadata": {
  "kernelspec": {
   "display_name": "Python 3",
   "language": "python",
   "name": "python3"
  },
  "language_info": {
   "codemirror_mode": {
    "name": "ipython",
    "version": 3
   },
   "file_extension": ".py",
   "mimetype": "text/x-python",
   "name": "python",
   "nbconvert_exporter": "python",
   "pygments_lexer": "ipython3",
   "version": "3.6.9"
  }
 },
 "nbformat": 4,
 "nbformat_minor": 4
}
